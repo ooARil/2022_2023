{
  "nbformat": 4,
  "nbformat_minor": 0,
  "metadata": {
    "colab": {
      "provenance": []
    },
    "kernelspec": {
      "name": "python3",
      "display_name": "Python 3"
    },
    "language_info": {
      "name": "python"
    }
  },
  "cells": [
    {
      "cell_type": "code",
      "execution_count": 16,
      "metadata": {
        "id": "_rbNs-yGz6tQ"
      },
      "outputs": [],
      "source": [
        "import numpy as np\n",
        "import operator as op\n",
        "import sys"
      ]
    },
    {
      "cell_type": "code",
      "execution_count": 17,
      "metadata": {
        "id": "QhpwD5BKz6tS"
      },
      "outputs": [],
      "source": [
        "s = \"С Новым Годом, друзья!\""
      ]
    },
    {
      "cell_type": "code",
      "execution_count": 18,
      "metadata": {
        "id": "AG1DkNuuz6tS"
      },
      "outputs": [],
      "source": [
        "def encryption(text):\n",
        "    print(\"Открытый текст: \", text)\n",
        "\n",
        "    new_text = []\n",
        "    for i in text:\n",
        "        new_text.append(i.encode(\"cp1251\").hex())\n",
        "    print(\"\\nОткрытый текст в 16-ой системе: \", new_text)\n",
        "\n",
        "    r = np.random.randint(0, 255, len(text))\n",
        "    key = [hex(i)[2:] for i in r]\n",
        "\n",
        "    new_key = []\n",
        "    for i in key:\n",
        "            new_key.append(i.encode(\"cp1251\").hex().upper())\n",
        "    print(\"\\nКлюч в 16-ой системе: \", key)\n",
        "\n",
        "    xor_text = []\n",
        "    for i in range(len(new_text)):\n",
        "        xor_text.append(\"{:02x}\".format(int(key[i], 16) ^ int(new_text[i], 16)))\n",
        "    print(\"\\nШифротекст в 16-ой системе: \", xor_text)\n",
        "\n",
        "    en_text = bytearray.fromhex(\"\".join(xor_text)).decode(\"cp1251\")\n",
        "    print(\"\\nШифротекст: \", en_text)\n",
        "    \n",
        "    return key, xor_text, en_text"
      ]
    },
    {
      "cell_type": "code",
      "execution_count": 19,
      "metadata": {
        "scrolled": false,
        "id": "eI__2-g1z6tT",
        "outputId": "bd906e69-03b0-4a43-fa81-e6bbedef3b41",
        "colab": {
          "base_uri": "https://localhost:8080/"
        }
      },
      "outputs": [
        {
          "output_type": "stream",
          "name": "stdout",
          "text": [
            "Открытый текст:  С Новым Годом, друзья!\n",
            "\n",
            "Открытый текст в 16-ой системе:  ['d1', '20', 'cd', 'ee', 'e2', 'fb', 'ec', '20', 'c3', 'ee', 'e4', 'ee', 'ec', '2c', '20', 'e4', 'f0', 'f3', 'e7', 'fc', 'ff', '21']\n",
            "\n",
            "Ключ в 16-ой системе:  ['5b', '54', '50', 'e0', '5', 'b', '9d', 'c8', 'e4', '28', '23', '3d', '1', '1b', 'ee', '86', '6b', '49', '7b', '7e', 'b7', '52']\n",
            "\n",
            "Шифротекст в 16-ой системе:  ['8a', '74', '9d', '0e', 'e7', 'f0', '71', 'e8', '27', 'c6', 'c7', 'd3', 'ed', '37', 'ce', '62', '9b', 'ba', '9c', '82', '48', '73']\n",
            "\n",
            "Шифротекст:  Љtќ\u000eзрqи'ЖЗУн7Оb›єњ‚Hs\n"
          ]
        }
      ],
      "source": [
        "k, t, et = encryption(s)"
      ]
    },
    {
      "cell_type": "code",
      "execution_count": 20,
      "metadata": {
        "scrolled": true,
        "id": "AMHOFfwBz6tU"
      },
      "outputs": [],
      "source": [
        "def find_key(text, en_text):\n",
        "    print(\"Открытый текст: \", text)\n",
        "    print(\"\\nШифротекст: \", en_text)\n",
        "    \n",
        "    new_text = []\n",
        "    for i in text:\n",
        "        new_text.append(i.encode(\"cp1251\").hex())\n",
        "    print(\"\\nОткрытый текст в 16-ой системе: \", new_text)\n",
        "    \n",
        "    tmp_text = []\n",
        "    for i in en_text:\n",
        "        tmp_text.append(i.encode(\"cp1251\").hex())\n",
        "    print(\"\\nШифротекст текст в 16-ой системе: \", tmp_text)\n",
        "    \n",
        "    xor_text = [hex(int(k,16)^int(t,16))[2:] for (k,t) in zip(new_text, tmp_text)]\n",
        "    print(\"\\nНайденный ключ в 16-ой системе: \", xor_text)\n",
        "    return xor_text"
      ]
    },
    {
      "cell_type": "code",
      "execution_count": 21,
      "metadata": {
        "id": "TGrv9pmKz6tU",
        "outputId": "52ea84ee-bbd0-4bb4-8372-2f2a16646eaa",
        "colab": {
          "base_uri": "https://localhost:8080/"
        }
      },
      "outputs": [
        {
          "output_type": "stream",
          "name": "stdout",
          "text": [
            "Открытый текст:  С Новым Годом, друзья!\n",
            "\n",
            "Шифротекст:  Љtќ\u000eзрqи'ЖЗУн7Оb›єњ‚Hs\n",
            "\n",
            "Открытый текст в 16-ой системе:  ['d1', '20', 'cd', 'ee', 'e2', 'fb', 'ec', '20', 'c3', 'ee', 'e4', 'ee', 'ec', '2c', '20', 'e4', 'f0', 'f3', 'e7', 'fc', 'ff', '21']\n",
            "\n",
            "Шифротекст текст в 16-ой системе:  ['8a', '74', '9d', '0e', 'e7', 'f0', '71', 'e8', '27', 'c6', 'c7', 'd3', 'ed', '37', 'ce', '62', '9b', 'ba', '9c', '82', '48', '73']\n",
            "\n",
            "Найденный ключ в 16-ой системе:  ['5b', '54', '50', 'e0', '5', 'b', '9d', 'c8', 'e4', '28', '23', '3d', '1', '1b', 'ee', '86', '6b', '49', '7b', '7e', 'b7', '52']\n"
          ]
        }
      ],
      "source": [
        "key = find_key(s, et)"
      ]
    },
    {
      "cell_type": "code",
      "execution_count": 22,
      "metadata": {
        "id": "NaP5WYNyz6tU",
        "outputId": "cc2264d1-a3a7-49b3-e6be-0b03108ecb05",
        "colab": {
          "base_uri": "https://localhost:8080/"
        }
      },
      "outputs": [
        {
          "output_type": "stream",
          "name": "stdout",
          "text": [
            "Ключ найден верно\n"
          ]
        }
      ],
      "source": [
        "if k == key:\n",
        "    print(\"Ключ найден верно\")\n",
        "else:\n",
        "    print(\"Ключ наадйен неверно\")"
      ]
    }
  ]
}