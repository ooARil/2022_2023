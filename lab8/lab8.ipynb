{
  "nbformat": 4,
  "nbformat_minor": 0,
  "metadata": {
    "colab": {
      "provenance": []
    },
    "kernelspec": {
      "name": "python3",
      "display_name": "Python 3"
    },
    "language_info": {
      "name": "python"
    }
  },
  "cells": [
    {
      "cell_type": "code",
      "execution_count": 22,
      "metadata": {
        "id": "4lDt0h7R_x_5"
      },
      "outputs": [],
      "source": [
        "import numpy as np\n",
        "import operator as op\n",
        "import sys"
      ]
    },
    {
      "cell_type": "code",
      "execution_count": 23,
      "metadata": {
        "id": "Cg1IS5uV_x_7",
        "outputId": "e0aa6249-615c-4d37-fe82-ae3358990e8d",
        "colab": {
          "base_uri": "https://localhost:8080/"
        }
      },
      "outputs": [
        {
          "output_type": "execute_result",
          "data": {
            "text/plain": [
              "22"
            ]
          },
          "metadata": {},
          "execution_count": 23
        }
      ],
      "source": [
        "s1 = \"С Новым Годом, друзья!\"\n",
        "len(s1)"
      ]
    },
    {
      "cell_type": "code",
      "execution_count": 24,
      "metadata": {
        "id": "CADSh2O6_x_7",
        "outputId": "c7f9d44e-4341-4c69-ef47-513d02c1d60c",
        "colab": {
          "base_uri": "https://localhost:8080/"
        }
      },
      "outputs": [
        {
          "output_type": "execute_result",
          "data": {
            "text/plain": [
              "22"
            ]
          },
          "metadata": {},
          "execution_count": 24
        }
      ],
      "source": [
        "s2 = \"С Рождеством, друзья!!\"\n",
        "len(s2)"
      ]
    },
    {
      "cell_type": "code",
      "execution_count": 25,
      "metadata": {
        "id": "CoWvDIsi_x_8"
      },
      "outputs": [],
      "source": [
        "def encryption(text1, text2):\n",
        "    print(\"Открытый текст 1: \", text1)\n",
        "    new_text1 = []\n",
        "    for i in text1:\n",
        "        new_text1.append(i.encode(\"cp1251\").hex())\n",
        "    print(\"\\nОткрытый текст 1 в 16-ой системе: \", new_text1)\n",
        "    \n",
        "    print(\"\\nОткрытый текст 2: \", text2)\n",
        "    new_text2 = []\n",
        "    for i in text2:\n",
        "        new_text2.append(i.encode(\"cp1251\").hex())\n",
        "    print(\"\\nОткрытый текст 2 в 16-ой системе: \", new_text2)\n",
        "    \n",
        "    r = np.random.randint(0, 255, len(text1))\n",
        "    key = [hex(i)[2:] for i in r]\n",
        "    new_key = []\n",
        "    for i in key:\n",
        "            new_key.append(i.encode(\"cp1251\").hex().upper())\n",
        "    print(\"\\nКлюч в 16-ой системе: \", key)\n",
        "    \n",
        "    xor_text1 = []\n",
        "    for i in range(len(new_text1)):\n",
        "        xor_text1.append(\"{:02x}\".format(int(key[i], 16) ^ int(new_text1[i], 16)))\n",
        "    print(\"\\nШифротекст 1 в 16-ой системе: \", xor_text1)\n",
        "    en_text1 = bytearray.fromhex(\"\".join(xor_text1)).decode(\"cp1251\")\n",
        "    print(\"\\nШифротекст 1: \", en_text1)\n",
        "    \n",
        "    xor_text2 = []\n",
        "    for i in range(len(new_text2)):\n",
        "        xor_text2.append(\"{:02x}\".format(int(key[i], 16) ^ int(new_text2[i], 16)))\n",
        "    print(\"\\nШифротекст 2 в 16-ой системе: \", xor_text2)\n",
        "    en_text2 = bytearray.fromhex(\"\".join(xor_text2)).decode(\"cp1251\")\n",
        "    print(\"\\nШифротекст 2: \", en_text2)\n",
        "    \n",
        "    return key, xor_text1, en_text1, xor_text2, en_text2"
      ]
    },
    {
      "cell_type": "code",
      "execution_count": 26,
      "metadata": {
        "id": "6pUaj2Zx_x_8",
        "outputId": "87873fc3-0f71-4f36-e132-2935a83f1657",
        "colab": {
          "base_uri": "https://localhost:8080/"
        }
      },
      "outputs": [
        {
          "output_type": "stream",
          "name": "stdout",
          "text": [
            "Открытый текст 1:  С Новым Годом, друзья!\n",
            "\n",
            "Открытый текст 1 в 16-ой системе:  ['d1', '20', 'cd', 'ee', 'e2', 'fb', 'ec', '20', 'c3', 'ee', 'e4', 'ee', 'ec', '2c', '20', 'e4', 'f0', 'f3', 'e7', 'fc', 'ff', '21']\n",
            "\n",
            "Открытый текст 2:  С Рождеством, друзья!!\n",
            "\n",
            "Открытый текст 2 в 16-ой системе:  ['d1', '20', 'd0', 'ee', 'e6', 'e4', 'e5', 'f1', 'f2', 'e2', 'ee', 'ec', '2c', '20', 'e4', 'f0', 'f3', 'e7', 'fc', 'ff', '21', '21']\n",
            "\n",
            "Ключ в 16-ой системе:  ['a7', 'fd', '50', '26', '6a', '80', '80', '43', 'd3', '3f', 'ec', '80', 'dc', 'ef', 'b7', 'a9', '35', '71', '62', 'a2', '99', '49']\n",
            "\n",
            "Шифротекст 1 в 16-ой системе:  ['76', 'dd', '9d', 'c8', '88', '7b', '6c', '63', '10', 'd1', '08', '6e', '30', 'c3', '97', '4d', 'c5', '82', '85', '5e', '66', '68']\n",
            "\n",
            "Шифротекст 1:  vЭќИ€{lc\u0010С\bn0Г—MЕ‚…^fh\n",
            "\n",
            "Шифротекст 2 в 16-ой системе:  ['76', 'dd', '80', 'c8', '8c', '64', '65', 'b2', '21', 'dd', '02', '6c', 'f0', 'cf', '53', '59', 'c6', '96', '9e', '5d', 'b8', '68']\n",
            "\n",
            "Шифротекст 2:  vЭЂИЊdeІ!Э\u0002lрПSYЖ–ћ]ёh\n"
          ]
        }
      ],
      "source": [
        "k, t1, et1, t2, et2 = encryption(s1, s2)"
      ]
    },
    {
      "cell_type": "code",
      "execution_count": 27,
      "metadata": {
        "id": "zdMkTBgX_x_9"
      },
      "outputs": [],
      "source": [
        "def decryption(c1, c2, p1):\n",
        "    print(\"Шифротекст 1: \", c1)\n",
        "    new_c1 = []\n",
        "    for i in c1:\n",
        "        new_c1.append(i.encode(\"cp1251\").hex())\n",
        "    print(\"\\nШифротекст 1 в 16-ой системе: \", new_c1)\n",
        "    \n",
        "    print(\"\\nШифротекст 2: \", c2)\n",
        "    new_c2 = []\n",
        "    for i in c2:\n",
        "        new_c2.append(i.encode(\"cp1251\").hex())\n",
        "    print(\"\\nШифротекст 2 в 16-ой системе: \", new_c2)\n",
        "    \n",
        "    print(\"\\nОткрытый текст 1: \", p1)\n",
        "    new_p1 = []\n",
        "    for i in p1:\n",
        "        new_p1.append(i.encode(\"cp1251\").hex())\n",
        "    print(\"\\nОткрытый текст 1 в 16-ой системе: \", new_p1)\n",
        "    \n",
        "    print(\"\\nНахожу второй открытый текст...\")\n",
        "    \n",
        "    xor_tmp = []\n",
        "    sp2 = []\n",
        "    for i in range(len(p1)):\n",
        "        xor_tmp.append(\"{:02x}\".format(int(new_c1[i], 16) ^ int(new_c2[i], 16)))\n",
        "        sp2.append(\"{:02x}\".format(int(xor_tmp[i], 16) ^ int(new_p1[i], 16)))\n",
        "    print(\"\\nОткрытый текст 2 в 16-ой системе: \", sp2)\n",
        "    \n",
        "    p2 = bytearray.fromhex(\"\".join(sp2)).decode(\"cp1251\")\n",
        "    print(\"\\nОткрытый текст 2: \", p2)\n",
        "    return p2, sp2"
      ]
    },
    {
      "cell_type": "code",
      "execution_count": 28,
      "metadata": {
        "id": "G7vuPq6g_x_9",
        "outputId": "bb551cfd-92ca-400e-8c2b-08768dc58be7",
        "colab": {
          "base_uri": "https://localhost:8080/"
        }
      },
      "outputs": [
        {
          "output_type": "stream",
          "name": "stdout",
          "text": [
            "Шифротекст 1:  vЭќИ€{lc\u0010С\bn0Г—MЕ‚…^fh\n",
            "\n",
            "Шифротекст 1 в 16-ой системе:  ['76', 'dd', '9d', 'c8', '88', '7b', '6c', '63', '10', 'd1', '08', '6e', '30', 'c3', '97', '4d', 'c5', '82', '85', '5e', '66', '68']\n",
            "\n",
            "Шифротекст 2:  vЭЂИЊdeІ!Э\u0002lрПSYЖ–ћ]ёh\n",
            "\n",
            "Шифротекст 2 в 16-ой системе:  ['76', 'dd', '80', 'c8', '8c', '64', '65', 'b2', '21', 'dd', '02', '6c', 'f0', 'cf', '53', '59', 'c6', '96', '9e', '5d', 'b8', '68']\n",
            "\n",
            "Открытый текст 1:  С Новым Годом, друзья!\n",
            "\n",
            "Открытый текст 1 в 16-ой системе:  ['d1', '20', 'cd', 'ee', 'e2', 'fb', 'ec', '20', 'c3', 'ee', 'e4', 'ee', 'ec', '2c', '20', 'e4', 'f0', 'f3', 'e7', 'fc', 'ff', '21']\n",
            "\n",
            "Нахожу второй открытый текст...\n",
            "\n",
            "Открытый текст 2 в 16-ой системе:  ['d1', '20', 'd0', 'ee', 'e6', 'e4', 'e5', 'f1', 'f2', 'e2', 'ee', 'ec', '2c', '20', 'e4', 'f0', 'f3', 'e7', 'fc', 'ff', '21', '21']\n",
            "\n",
            "Открытый текст 2:  С Рождеством, друзья!!\n"
          ]
        }
      ],
      "source": [
        "s3 = decryption(et1, et2, s1)"
      ]
    },
    {
      "cell_type": "code",
      "execution_count": 7,
      "metadata": {
        "id": "zKF9Uf9h_x_9"
      },
      "outputs": [],
      "source": []
    }
  ]
}